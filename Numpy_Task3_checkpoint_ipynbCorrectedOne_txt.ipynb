{
  "nbformat": 4,
  "nbformat_minor": 0,
  "metadata": {
    "kernelspec": {
      "display_name": "Python 3",
      "language": "python",
      "name": "python3"
    },
    "language_info": {
      "codemirror_mode": {
        "name": "ipython",
        "version": 3
      },
      "file_extension": ".py",
      "mimetype": "text/x-python",
      "name": "python",
      "nbconvert_exporter": "python",
      "pygments_lexer": "ipython3",
      "version": "3.7.4"
    },
    "colab": {
      "name": "Numpy_Task3-checkpoint.ipynbCorrectedOne.txt",
      "provenance": [],
      "collapsed_sections": [],
      "include_colab_link": true
    }
  },
  "cells": [
    {
      "cell_type": "markdown",
      "metadata": {
        "id": "view-in-github",
        "colab_type": "text"
      },
      "source": [
        "<a href=\"https://colab.research.google.com/github/amberham1988/Assignment-2-PIAIC-/blob/main/Numpy_Task3_checkpoint_ipynbCorrectedOne_txt.ipynb\" target=\"_parent\"><img src=\"https://colab.research.google.com/assets/colab-badge.svg\" alt=\"Open In Colab\"/></a>"
      ]
    },
    {
      "cell_type": "markdown",
      "metadata": {
        "id": "FY58YPqYgCr3"
      },
      "source": [
        "# Election Results\n",
        "\n",
        "You’re part of an impartial research group that conducts phone surveys prior to local elections. During this election season, the group conducted a survey to determine how many people would vote for I_Khan vs. S_Sharif in the presidential election.\n",
        "\n",
        "Now that the election has occurred, your group wants to compare the survey responses to the actual results.\n",
        "\n",
        "Was your survey a good indicator? Let’s find out!"
      ]
    },
    {
      "cell_type": "markdown",
      "metadata": {
        "id": "PXEoNLoDgCse"
      },
      "source": [
        "# PROJECT STEPS"
      ]
    },
    {
      "cell_type": "markdown",
      "metadata": {
        "id": "uZFlZHQBgCsi"
      },
      "source": [
        "1.First, import numpy and matplotlib."
      ]
    },
    {
      "cell_type": "code",
      "metadata": {
        "id": "oQtExVDtgCsk"
      },
      "source": [
        "#type your code here\n",
        "\n",
        "import numpy as np\n",
        "import matplotlib as plt"
      ],
      "execution_count": 25,
      "outputs": []
    },
    {
      "cell_type": "markdown",
      "metadata": {
        "id": "kwQXPdWXgCsq"
      },
      "source": [
        "2.There is a list given of the different survey responses.\n",
        "\n",
        "Calculate the number of people who answered ‘I_Khan’ and save the answer to the variable total_Khan.\n",
        "\n",
        "Print the variable to the terminal to see its value."
      ]
    },
    {
      "cell_type": "code",
      "metadata": {
        "id": "5lGCBII1OS3Z"
      },
      "source": [
        ""
      ],
      "execution_count": null,
      "outputs": []
    },
    {
      "cell_type": "code",
      "metadata": {
        "id": "VZM2uv9egCsr"
      },
      "source": [
        "survey_responses = ['I_Khan', 'Kerrigan', 'Ceballos', 'Ceballos', 'Ceballos','Kerrigan',\n",
        "                    'Kerrigan', 'Ceballos', 'Ceballos', 'Ceballos', 'Kerrigan', 'Kerrigan',\n",
        "                    'Ceballos', 'Ceballos', 'Kerrigan', 'Kerrigan','Ceballos', 'Ceballos', \n",
        "                    'Kerrigan', 'Kerrigan', 'Kerrigan', 'Kerrigan', 'Kerrigan', 'Kerrigan', \n",
        "                    'Ceballos', 'Ceballos', 'Ceballos', 'Ceballos', 'Ceballos', 'Ceballos',\n",
        "                    'Kerrigan', 'Kerrigan', 'Ceballos', 'Ceballos', 'Ceballos', 'Kerrigan',\n",
        "                    'Kerrigan', 'Ceballos', 'Ceballos', 'Kerrigan', 'Kerrigan', 'Ceballos', \n",
        "                    'Ceballos', 'Kerrigan', 'Kerrigan', 'Kerrigan', 'Kerrigan', 'Kerrigan',\n",
        "                    'Kerrigan', 'Ceballos','Kerrigan', 'Kerrigan', 'Ceballos', 'Ceballos', \n",
        "                    'Ceballos', 'Kerrigan', 'Kerrigan', 'Ceballos', 'Ceballos', 'Kerrigan', \n",
        "                    'Kerrigan', 'Ceballos', 'Ceballos', 'Kerrigan', 'Kerrigan', 'Kerrigan', \n",
        "                    'Kerrigan', 'Kerrigan', 'Kerrigan', 'Ceballos']\n",
        "\n",
        "#type your code here\n",
        "survey = np.array(survey_responses)\n",
        "survey[survey_responses == 'Ceballos'] = 'I_Khan'\n",
        "survey[survey_responses =='Kerrigan' ] = 'S_ Sharif' \n",
        "total_Khan = np.sum(survey == 'I_Khan')"
      ],
      "execution_count": 15,
      "outputs": []
    },
    {
      "cell_type": "markdown",
      "metadata": {
        "id": "9WGy8XkSgCst"
      },
      "source": [
        "3.Calculate the percentage of people in the survey who voted for I_Khan and save it to the variable percentage_I_Khan.\n",
        "\n",
        "Print the variable to the terminal to see its value."
      ]
    },
    {
      "cell_type": "code",
      "metadata": {
        "colab": {
          "base_uri": "https://localhost:8080/"
        },
        "id": "Wcc7heo6gCsu",
        "outputId": "193d7d31-d08e-44b0-81c1-2fd9ccdae0b9"
      },
      "source": [
        "#type your code here\n",
        "np.mean(survey== 'I_Khan')"
      ],
      "execution_count": 16,
      "outputs": [
        {
          "output_type": "execute_result",
          "data": {
            "text/plain": [
              "0.014285714285714285"
            ]
          },
          "metadata": {
            "tags": []
          },
          "execution_count": 16
        }
      ]
    },
    {
      "cell_type": "markdown",
      "metadata": {
        "id": "31zKtUaogCsv"
      },
      "source": [
        "4.In the real election, 54% of the 10,000 town population voted for I_Khan. Your supervisors are concerned because this is a very different outcome than what the poll predicted. They want you to determine if there is something wrong with the poll or if given the sample size, it was an entirely reasonable result.\n",
        "\n",
        "Generate a binomial distribution that takes the number of total survey responses, the actual success rate, and the size of the town’s population as its parameters. Then divide the distribution by the number of survey responses. Save your calculation to the variable possible_surveys.\n",
        "\n",
        "######### hint###########\n",
        "possible_surveys = \n",
        "np.random.binomial(total of survey responses, the actual success rate,and the size of the town’s population ) "
      ]
    },
    {
      "cell_type": "code",
      "metadata": {
        "id": "1-EjC8ivgCsy"
      },
      "source": [
        "#type your code here\n",
        "size = float(len(survey_responses))\n",
        "actual_size = 0.54 \n",
        "town_population = 10,000 \n",
        "possible_surveys = np.random.binomial(size, 0.54, size = 10000)/size \n"
      ],
      "execution_count": 22,
      "outputs": []
    },
    {
      "cell_type": "markdown",
      "metadata": {
        "id": "QKkt_SqVgCs4"
      },
      "source": [
        "\n",
        "      #######Optional########\n",
        "5.By using matplotlib Plot a histogram of possible_surveys with a range of 0-1 and 20 bins.\n"
      ]
    },
    {
      "cell_type": "code",
      "metadata": {
        "colab": {
          "base_uri": "https://localhost:8080/",
          "height": 129
        },
        "id": "beww2_UZgCs6",
        "outputId": "8e1331bd-275e-4353-d67f-b86148d63fd7"
      },
      "source": [
        "#type your code here\n",
        "\n",
        "\n",
        "\n"
      ],
      "execution_count": 31,
      "outputs": [
        {
          "output_type": "error",
          "ename": "IndentationError",
          "evalue": "ignored",
          "traceback": [
            "\u001b[0;36m  File \u001b[0;32m\"<ipython-input-31-8a66590744b9>\"\u001b[0;36m, line \u001b[0;32m3\u001b[0m\n\u001b[0;31m    histogram= plt.hist(possible_surveys, range =(0, 1), bins=20)\u001b[0m\n\u001b[0m    ^\u001b[0m\n\u001b[0;31mIndentationError\u001b[0m\u001b[0;31m:\u001b[0m unexpected indent\n"
          ]
        }
      ]
    },
    {
      "cell_type": "markdown",
      "metadata": {
        "id": "CyWBJ_XfgCs7"
      },
      "source": [
        "6.As we saw, 47% of people we surveyed said they would vote for I_Khan, but 54% of people voted for I_Khan in the actual election.\n",
        "\n",
        "Calculate the percentage of surveys that could have an outcome of I_Khan receiving less than 50% of the vote and save it to the variable I_Khan_loss_surveys.\n",
        "\n",
        "Print the variable to the terminal."
      ]
    },
    {
      "cell_type": "code",
      "metadata": {
        "colab": {
          "base_uri": "https://localhost:8080/"
        },
        "id": "6npS3V_OgCs8",
        "outputId": "39f4a17d-3cce-49b8-aded-16e3917e3572"
      },
      "source": [
        "#type your code here\n",
        "\n",
        "I_Khan_loss_surveys =np.mean(possible_surveys < .5)\n",
        "I_Khan_loss_surveys* 100"
      ],
      "execution_count": 36,
      "outputs": [
        {
          "output_type": "execute_result",
          "data": {
            "text/plain": [
              "21.05"
            ]
          },
          "metadata": {
            "tags": []
          },
          "execution_count": 36
        }
      ]
    },
    {
      "cell_type": "markdown",
      "metadata": {
        "id": "8TKnOogNgCs9"
      },
      "source": [
        "7.With this current poll, about 20% of the time a survey output would predict S_Sharif winning, even if I_Khan won the actual election.\n",
        "\n",
        "Your co-worker points out that your poll would be more accurate if it had more responders.\n",
        "\n",
        "Generate another binomial distribution, but this time, see what would happen if you had instead surveyed 7,000 people. Divide the distribution by the size of the survey and save your findings to large_survey.\n"
      ]
    },
    {
      "cell_type": "code",
      "metadata": {
        "id": "y0SgolEXgCs-"
      },
      "source": [
        "#type your code here\n",
        "\n"
      ],
      "execution_count": null,
      "outputs": []
    },
    {
      "cell_type": "markdown",
      "metadata": {
        "id": "S14IawtugCs-"
      },
      "source": [
        "8.Now, recalculate the percentage of surveys that would have an outcome of I_Khan losing and save it to the variable I_Khan_loss_new, and print the value to the terminal.\n",
        "\n",
        "What do we notice about this new value?\n",
        "\n",
        "What advice would you give to your supervisors about predicting results from surveys?\n"
      ]
    },
    {
      "cell_type": "code",
      "metadata": {
        "id": "QWT8rBHPgCs_"
      },
      "source": [
        "#type your code here\n",
        "\n"
      ],
      "execution_count": null,
      "outputs": []
    }
  ]
}